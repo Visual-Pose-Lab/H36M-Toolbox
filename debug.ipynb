{
 "cells": [
  {
   "cell_type": "code",
   "execution_count": null,
   "metadata": {},
   "outputs": [],
   "source": [
    "import numpy as np\n",
    "\n",
    "keypoints = np.load('/home/ltf/data/xw/MHFormer/dataset/h36m/data_2d_h36m_cpn_ft_h36m_dbb.npz', allow_pickle=True)\n",
    "keypoints = keypoints['positions_2d'].item()"
   ]
  },
  {
   "cell_type": "code",
   "execution_count": null,
   "metadata": {},
   "outputs": [],
   "source": [
    "for sub in keypoints.keys():\n",
    "    for act in keypoints[sub].keys():\n",
    "        for cam in range(len(keypoints[sub][act])):\n",
    "            print(sub, act, cam,\n",
    "                  keypoints[sub][act][cam].shape)"
   ]
  },
  {
   "cell_type": "code",
   "execution_count": 6,
   "metadata": {},
   "outputs": [],
   "source": [
    "path = np.load('crop_image_paths.npz', allow_pickle=True)\n",
    "path1 = path['iamge_path']"
   ]
  },
  {
   "cell_type": "code",
   "execution_count": 11,
   "metadata": {},
   "outputs": [],
   "source": [
    "path2 = {}\n",
    "path2['image_path'] = path1\n",
    "\n",
    "\n",
    "metadata = {\n",
    "    'num_joints': path['metadata'].item()['num_joints'],\n",
    "    'keypoints_symmetry': path['metadata'].item()['keypoints_symmetry']\n",
    "}\n",
    "\n",
    "np.savez_compressed('crop_image_paths_2.npz', image_path = path2, metadata=metadata)"
   ]
  }
 ],
 "metadata": {
  "kernelspec": {
   "display_name": "pose",
   "language": "python",
   "name": "python3"
  },
  "language_info": {
   "codemirror_mode": {
    "name": "ipython",
    "version": 3
   },
   "file_extension": ".py",
   "mimetype": "text/x-python",
   "name": "python",
   "nbconvert_exporter": "python",
   "pygments_lexer": "ipython3",
   "version": "3.8.20"
  }
 },
 "nbformat": 4,
 "nbformat_minor": 2
}
